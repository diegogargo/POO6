{
  "nbformat": 4,
  "nbformat_minor": 0,
  "metadata": {
    "colab": {
      "provenance": []
    },
    "kernelspec": {
      "name": "python3",
      "display_name": "Python 3"
    },
    "language_info": {
      "name": "python"
    }
  },
  "cells": [
    {
      "cell_type": "markdown",
      "source": [
        "### Class Diego"
      ],
      "metadata": {
        "id": "4fcrBcFBnDJt"
      }
    },
    {
      "cell_type": "code",
      "execution_count": 9,
      "metadata": {
        "id": "2r3yV71RnBOB"
      },
      "outputs": [],
      "source": [
        "class Diego():\n",
        "\n",
        "# (self)= declarador de variables y funciones\n",
        "    def ___init__(self):\n",
        "      print(\"Creamos una clase madre\")\n",
        "\n",
        "# Poliformos\n",
        "    def nombre(self):\n",
        "      print(\"Hola, soy Diego\")\n",
        "\n",
        "    def lugar(self):\n",
        "      print(\"Soy de la CDMX\")\n",
        "\n",
        "    def comida(self):\n",
        "      print(\"Me gusta la carne asada, el sushi y los postres \")\n",
        "\n",
        "    def deportes(self):\n",
        "      print(\"Juego futbol y me gusta hacer ejercicio\")"
      ]
    },
    {
      "cell_type": "code",
      "source": [
        "diego = Diego()"
      ],
      "metadata": {
        "id": "l_S-zaxontla"
      },
      "execution_count": 8,
      "outputs": []
    },
    {
      "cell_type": "code",
      "source": [
        "diego.nombre()"
      ],
      "metadata": {
        "colab": {
          "base_uri": "https://localhost:8080/"
        },
        "id": "yVfKw7TXoc2d",
        "outputId": "cb4e1e3a-f157-43e1-f6ec-047d41111b2a"
      },
      "execution_count": 10,
      "outputs": [
        {
          "output_type": "stream",
          "name": "stdout",
          "text": [
            "Hola, Diego\n"
          ]
        }
      ]
    },
    {
      "cell_type": "code",
      "source": [
        "diego.lugar()"
      ],
      "metadata": {
        "colab": {
          "base_uri": "https://localhost:8080/"
        },
        "id": "qIVlfGIdosp6",
        "outputId": "66dde123-b550-45cd-bee5-ca0410033790"
      },
      "execution_count": 12,
      "outputs": [
        {
          "output_type": "stream",
          "name": "stdout",
          "text": [
            "Soy de la CDMX\n"
          ]
        }
      ]
    },
    {
      "cell_type": "code",
      "source": [
        "diego.comida()"
      ],
      "metadata": {
        "colab": {
          "base_uri": "https://localhost:8080/"
        },
        "id": "_q14Mp1_o3uD",
        "outputId": "1c505f86-fe32-456f-d24b-76144a9dc944"
      },
      "execution_count": 13,
      "outputs": [
        {
          "output_type": "stream",
          "name": "stdout",
          "text": [
            "Me gusta la carne asada, el sushi y los postres \n"
          ]
        }
      ]
    },
    {
      "cell_type": "code",
      "source": [
        "diego.deportes()"
      ],
      "metadata": {
        "colab": {
          "base_uri": "https://localhost:8080/"
        },
        "id": "OmeTEOzio7D4",
        "outputId": "8224e805-9489-405f-94bd-137ad31b12f2"
      },
      "execution_count": 14,
      "outputs": [
        {
          "output_type": "stream",
          "name": "stdout",
          "text": [
            "Juego futbol y me gusta hacer ejercicio\n"
          ]
        }
      ]
    },
    {
      "cell_type": "markdown",
      "source": [
        "###Crear una herencia"
      ],
      "metadata": {
        "id": "uPB9KUjwpH5p"
      }
    },
    {
      "cell_type": "code",
      "source": [
        "class Escuela(Diego):\n",
        "\n",
        "   def ___init__(self): # Traemos las funciones creadas en la clase anterior\n",
        "    Diego._init_(self)\n",
        "    print(\"Creamos una clase heredada\")\n",
        "   def escu(self):\n",
        "    print(\"Estudio en la Universidad UP\")\n",
        "   def ubicacion(self):\n",
        "    print(\"Esta en Huixquilucan por Bosque Real\")\n",
        "   def tiempo(self):\n",
        "    print(\"Hago 15 minutos en coche sin tráfico\")\n"
      ],
      "metadata": {
        "id": "xDskjkGTpKxb"
      },
      "execution_count": 31,
      "outputs": []
    },
    {
      "cell_type": "code",
      "source": [
        "escuela = Escuela() # Llamamos a la clase heredada"
      ],
      "metadata": {
        "id": "mj0_Xc2dp0gU"
      },
      "execution_count": 32,
      "outputs": []
    },
    {
      "cell_type": "code",
      "source": [
        "diego.nombre()"
      ],
      "metadata": {
        "colab": {
          "base_uri": "https://localhost:8080/"
        },
        "id": "Pjs97PUyp3DD",
        "outputId": "765092d6-4591-42a5-e282-aa03726b680c"
      },
      "execution_count": 33,
      "outputs": [
        {
          "output_type": "stream",
          "name": "stdout",
          "text": [
            "Hola, Diego\n"
          ]
        }
      ]
    },
    {
      "cell_type": "code",
      "source": [
        "escuela.escu()"
      ],
      "metadata": {
        "colab": {
          "base_uri": "https://localhost:8080/"
        },
        "id": "Pfe_qWYKqGyM",
        "outputId": "9e1a28d6-a2a9-4a62-94f5-56ab599f07cf"
      },
      "execution_count": 34,
      "outputs": [
        {
          "output_type": "stream",
          "name": "stdout",
          "text": [
            "Estudio en la Universidad UP\n"
          ]
        }
      ]
    }
  ]
}